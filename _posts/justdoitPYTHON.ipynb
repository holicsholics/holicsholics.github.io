{
 "cells": [
  {
   "cell_type": "markdown",
   "metadata": {},
   "source": [
    "# 직접 만드는 프로덕트로 3주안에 끝내는 Python"
   ]
  },
  {
   "cell_type": "markdown",
   "metadata": {},
   "source": [
    "## Why Python\n"
   ]
  },
  {
   "cell_type": "markdown",
   "metadata": {},
   "source": [
    "## Python으로 만드는 메뉴 자판기"
   ]
  },
  {
   "cell_type": "markdown",
   "metadata": {},
   "source": [
    "### 오늘 뭐 드실?\n",
    "\n",
    "### 파이썬 맛보기"
   ]
  },
  {
   "cell_type": "code",
   "execution_count": 3,
   "metadata": {},
   "outputs": [
    {
     "name": "stdout",
     "output_type": "stream",
     "text": [
      "피자\n"
     ]
    }
   ],
   "source": [
    "import random\n",
    "\n",
    "print(random.choice([\"된장찌개\", \"피자\", \"제육볶음\"]))"
   ]
  },
  {
   "cell_type": "markdown",
   "metadata": {},
   "source": [
    "### 대신 반복하기"
   ]
  },
  {
   "cell_type": "code",
   "execution_count": 4,
   "metadata": {},
   "outputs": [
    {
     "name": "stdout",
     "output_type": "stream",
     "text": [
      "제육볶음\n",
      "치킨\n",
      "제육볶음\n",
      "치킨\n",
      "피자\n",
      "치킨\n",
      "떡볶이\n",
      "치킨\n",
      "떡볶이\n",
      "떡볶이\n",
      "된장찌개\n",
      "제육볶음\n",
      "떡볶이\n",
      "된장찌개\n",
      "피자\n",
      "된장찌개\n",
      "피자\n",
      "된장찌개\n",
      "피자\n",
      "떡볶이\n",
      "피자\n",
      "제육볶음\n",
      "피자\n",
      "치킨\n",
      "떡볶이\n",
      "된장찌개\n",
      "된장찌개\n",
      "된장찌개\n",
      "떡볶이\n",
      "피자\n"
     ]
    }
   ],
   "source": [
    "import random\n",
    "\n",
    "for _ in range(30):\n",
    "    print(random.choice([\"된장찌개\",\"피자\",\"제육볶음\",\"치킨\",\"떡볶이\"]))\n"
   ]
  },
  {
   "cell_type": "code",
   "execution_count": 6,
   "metadata": {},
   "outputs": [
    {
     "name": "stdout",
     "output_type": "stream",
     "text": [
      "라면\n"
     ]
    }
   ],
   "source": [
    "import random\n",
    "import time\n",
    "\n",
    "while True:\n",
    "    print(random.choice([\"된장찌개\", \"치킨\", \"떡볶이\", \"라면\", \"감자튀김\"]))\n",
    "    break\n",
    "    print(\"이 문장도 반복되나\")\n",
    "    time.sleep(1)"
   ]
  },
  {
   "cell_type": "markdown",
   "metadata": {},
   "source": [
    "### 데이터 상자 만들기"
   ]
  },
  {
   "cell_type": "code",
   "execution_count": 10,
   "metadata": {},
   "outputs": [
    {
     "name": "stdout",
     "output_type": "stream",
     "text": [
      "피자 돈까스\n"
     ]
    }
   ],
   "source": [
    "import random\n",
    "\n",
    "lunch = random.choice([\"된장찌개\", \"피자\", \"제육볶음\"])\n",
    "dinner = random.choice([\"김밥\", \"쫄면\", \"돈까스\"])\n",
    "\n",
    "print(lunch, dinner)"
   ]
  },
  {
   "cell_type": "markdown",
   "metadata": {},
   "source": [
    "### dictionary"
   ]
  },
  {
   "cell_type": "code",
   "execution_count": 11,
   "metadata": {},
   "outputs": [
    {
     "name": "stdout",
     "output_type": "stream",
     "text": [
      "{'고향': '수원', '취미': '영화관람', '좋아하는 음식': '국수', '사는곳': '서울', '특기': '피아노'}\n",
      "서울\n"
     ]
    }
   ],
   "source": [
    "information = {\"고향\":\"수원\", \"취미\":\"영화관람\", \"좋아하는 음식\":\"국수\",\"사는곳\":\"서울\", \"특기\":\"피아노\"}\n",
    "print(information)\n",
    "print(information.get((\"사는곳\")))"
   ]
  },
  {
   "cell_type": "markdown",
   "metadata": {},
   "source": [
    "### List와 Dict"
   ]
  },
  {
   "cell_type": "code",
   "execution_count": null,
   "metadata": {},
   "outputs": [],
   "source": [
    "information = {\"고향\":\"수원\", \"취미\":\"영화관람\",\"좋아하는 음식\":\"국수\"}\n",
    "foods = [\"된장찌개\", \"피자\", \"제육볶음\"]\n",
    "print(information.get(\"취미\"))\n",
    "information[\"특기\"] = \"피아노\"\n",
    "information[\"사는곳\"] = \"서울\"\n",
    "del information[\"좋아하는 음식\"]\n",
    "print(information)\n",
    "print(len(information))\n",
    "information.clear()\n",
    "print(information)\n",
    "print(foods[3])"
   ]
  },
  {
   "cell_type": "markdown",
   "metadata": {},
   "source": [
    "### 끝까지 반복하기"
   ]
  },
  {
   "cell_type": "code",
   "execution_count": 12,
   "metadata": {},
   "outputs": [
    {
     "name": "stdout",
     "output_type": "stream",
     "text": [
      "0\n",
      "1\n",
      "2\n",
      "3\n",
      "4\n",
      "5\n",
      "6\n",
      "7\n",
      "8\n",
      "9\n",
      "10\n",
      "11\n",
      "12\n",
      "13\n",
      "14\n",
      "15\n",
      "16\n",
      "17\n",
      "18\n",
      "19\n",
      "20\n",
      "21\n",
      "22\n",
      "23\n",
      "24\n",
      "25\n",
      "26\n",
      "27\n",
      "28\n",
      "29\n"
     ]
    }
   ],
   "source": [
    "for x in range(30):\n",
    "    print(x)"
   ]
  },
  {
   "cell_type": "code",
   "execution_count": 13,
   "metadata": {},
   "outputs": [
    {
     "name": "stdout",
     "output_type": "stream",
     "text": [
      "된장찌개\n",
      "피자\n",
      "제육볶음\n"
     ]
    }
   ],
   "source": [
    "foods = [\"된장찌개\", \"피자\", \"제육볶음\"]\n",
    "\n",
    "for _ in foods:\n",
    "    print(_)"
   ]
  },
  {
   "cell_type": "code",
   "execution_count": 15,
   "metadata": {},
   "outputs": [
    {
     "name": "stdout",
     "output_type": "stream",
     "text": [
      "고향 : 수원\n",
      "취미 : 영화관람\n",
      "좋아하는 음식 : 국수\n"
     ]
    }
   ],
   "source": [
    "information = {\"고향\":\"수원\", \"취미\":\"영화관람\",\"좋아하는 음식\":\"국수\"}\n",
    "\n",
    "for x,y in information.items():\n",
    "    print(x,':', y)"
   ]
  },
  {
   "cell_type": "markdown",
   "metadata": {},
   "source": [
    "### 집합 알아보기\n"
   ]
  },
  {
   "cell_type": "code",
   "execution_count": 17,
   "metadata": {},
   "outputs": [
    {
     "name": "stdout",
     "output_type": "stream",
     "text": [
      "['된장찌개', '피자', '제육볶음', '된장찌개']\n",
      "{'피자', '제육볶음', '된장찌개'}\n",
      "{'피자', '제육볶음', '된장찌개'}\n"
     ]
    }
   ],
   "source": [
    "foods = [\"된장찌개\", \"피자\", \"제육볶음\", \"된장찌개\"]\n",
    "foods_set1 = set(foods)\n",
    "foods_set2 = set([\"된장찌개\", \"피자\", \"제육볶음\"])\n",
    "print(foods)\n",
    "print(foods_set1)\n",
    "print(foods_set2)"
   ]
  },
  {
   "cell_type": "code",
   "execution_count": 18,
   "metadata": {},
   "outputs": [
    {
     "name": "stdout",
     "output_type": "stream",
     "text": [
      "{'피자', '제육볶음'}\n"
     ]
    }
   ],
   "source": [
    "menu1 = set([\"된장찌개\", \"피자\", \"제육볶음\"])\n",
    "menu2 = set([\"된장찌개\", \"떡국\", \"김밥\"])\n",
    "menu3 = menu1 - menu2\n",
    "print(menu3)"
   ]
  },
  {
   "cell_type": "markdown",
   "metadata": {},
   "source": [
    "### 만약에\n"
   ]
  },
  {
   "cell_type": "code",
   "execution_count": 25,
   "metadata": {},
   "outputs": [
    {
     "name": "stdout",
     "output_type": "stream",
     "text": [
      "그냥 주세요\n",
      "종료\n"
     ]
    }
   ],
   "source": [
    "import random\n",
    "\n",
    "food = random.choice([\"된장찌개\", \"피자\", \"제육볶음\"])\n",
    "\n",
    "if food==\"제육볶음\":\n",
    "    print(\"곱배기 주세요\")\n",
    "else:\n",
    "    print(\"그냥 주세요\")\n",
    "print(\"종료\")"
   ]
  },
  {
   "cell_type": "markdown",
   "metadata": {},
   "source": [
    "### 오늘 뭐 드실?"
   ]
  },
  {
   "cell_type": "code",
   "execution_count": 29,
   "metadata": {},
   "outputs": [
    {
     "name": "stdout",
     "output_type": "stream",
     "text": [
      "['된장찌개', '피자', '제육볶음', '짜장면']\n",
      "{'피자', '짜장면', '제육볶음', '된장찌개'}\n",
      "{'피자', '짜장면', '제육볶음', '된장찌개'} 중에서 선택합니다.\n",
      "5\n",
      "4\n",
      "3\n",
      "2\n",
      "1\n",
      "된장찌개\n"
     ]
    }
   ],
   "source": [
    "import random\n",
    "import time \n",
    "\n",
    "lunch = [\"된장찌개\", \"피자\", \"제육볶음\", \"짜장면\"]\n",
    "\n",
    "while True:\n",
    "    item = input(\"음식을 추가 해주세요: \")\n",
    "    if item=='q':\n",
    "        break\n",
    "    else:\n",
    "        lunch.append(item)\n",
    "    \n",
    "print(lunch)\n",
    "\n",
    "set_lunch = set(lunch)\n",
    "\n",
    "while True:\n",
    "    print(set_lunch)\n",
    "    item = input(\"음식을 삭제해주세요: \")\n",
    "    if item=='q':\n",
    "        break\n",
    "    else:\n",
    "        set_lunch = set_lunch - set([item])\n",
    "\n",
    "print(set_lunch, \"중에서 선택합니다.\")\n",
    "\n",
    "for _ in range(5, 0, -1):\n",
    "    print(_)\n",
    "    time.sleep(1)\n",
    "print(random.choice(list(set_lunch)))"
   ]
  },
  {
   "cell_type": "markdown",
   "metadata": {},
   "source": [
    "## Python으로 만드는 익명 질문 게시판"
   ]
  },
  {
   "cell_type": "markdown",
   "metadata": {},
   "source": [
    "### 함수\n"
   ]
  },
  {
   "cell_type": "code",
   "execution_count": null,
   "metadata": {},
   "outputs": [],
   "source": [
    "def make_dolcelatte():\n",
    "    print(\"1. 얼음을 넣는다\")\n",
    "    print(\"2. 연유를 30ml 넣는다\")\n",
    "    print(\"3. 찬 우유를 넣는다\")\n",
    "    print(\"4. 에스프레소샷을 넣는다\")\n",
    "    \n",
    "def make_blueberry_smoothie():\n",
    "    print(\"1. 블루베리 20g을 넣는다\")\n",
    "    print(\"2. 우유 300ml를 넣는다\")\n",
    "    print(\"3. 얼음을 넣는다\")\n",
    "    print(\"4. 믹서기에 간다\") "
   ]
  },
  {
   "cell_type": "code",
   "execution_count": null,
   "metadata": {},
   "outputs": [],
   "source": [
    "total_dictionary = {}\n",
    "while True:\n",
    "    question = input(\"질문을 입력해주세요 : \")\n",
    "    if question == \"q\":\n",
    "        break\n",
    "    else:\n",
    "        total_dictionary[question] = \"\"\n",
    "\n",
    "for i in total_dictionary:\n",
    "    print(i)\n",
    "    answer = input(\"답변을 입력해주세요 : \")\n",
    "    total_dictionary[i] = answer\n",
    "print(total_dictionary)"
   ]
  },
  {
   "cell_type": "code",
   "execution_count": null,
   "metadata": {},
   "outputs": [],
   "source": [
    "total_dictionary = {}\n",
    "\n",
    "while True:\n",
    "    question = input(\"질문을 입력해주세요 : \")\n",
    "    if question == \"q\":\n",
    "        break\n",
    "    else:\n",
    "        total_dictionary[question] = \"\"\n",
    "\n",
    "for i in total_dictionary:\n",
    "    print(i)\n",
    "    answer = input(\"답변을 입력해주세요 : \")\n",
    "    total_dictionary[i] = answer\n",
    "print(total_dictionary)"
   ]
  },
  {
   "cell_type": "markdown",
   "metadata": {},
   "source": [
    "## You did it!"
   ]
  },
  {
   "cell_type": "code",
   "execution_count": null,
   "metadata": {},
   "outputs": [],
   "source": [
    "# 밑 줄을 지우고, 빈 칸을 채워주세요.\n",
    "\n",
    "season = input(\"계절을 입력하세요 :\")\n",
    "\n",
    "if season==\"봄\":\n",
    "    print(\"가디건\")\n",
    "elif season==\"여름\":\n",
    "    print(\"반팔\")\n",
    "elif season==\"가을\":\n",
    "    print(\"코트\")\n",
    "elif season==\"겨울\":\n",
    "    print(\"패딩\")\n",
    "else:\n",
    "    print(\"잘못 입력하셨습니다.\")   "
   ]
  }
 ],
 "metadata": {
  "interpreter": {
   "hash": "2adbbab99b6256ce598f1aa05b0ff12e726ebcf0af1c93fcb48c26559cabae52"
  },
  "kernelspec": {
   "display_name": "Python 3.9.12 64-bit",
   "language": "python",
   "name": "python3"
  },
  "language_info": {
   "codemirror_mode": {
    "name": "ipython",
    "version": 3
   },
   "file_extension": ".py",
   "mimetype": "text/x-python",
   "name": "python",
   "nbconvert_exporter": "python",
   "pygments_lexer": "ipython3",
   "version": "3.9.12"
  },
  "orig_nbformat": 4
 },
 "nbformat": 4,
 "nbformat_minor": 2
}
